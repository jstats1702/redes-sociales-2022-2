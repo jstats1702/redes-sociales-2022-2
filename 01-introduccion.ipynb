{
 "cells": [
  {
   "cell_type": "markdown",
   "id": "appropriate-nashville",
   "metadata": {},
   "source": [
    "# Introducción al análisis estadístico de redes sociales\n",
    "\n",
    "Juan Sosa PhD\n",
    "\n",
    "Email jcsosam@unal.edu.co\n",
    "\n",
    "GitHub https://github.com/jstats1702\n",
    "\n",
    "Samuel Sánchez (revisión R y Python)\n",
    "\n",
    "Email ssanchezgu@unal.edu.co\n",
    "\n",
    "GitHub https://github.com/Samuel-col"
   ]
  },
  {
   "cell_type": "markdown",
   "id": "arctic-convention",
   "metadata": {},
   "source": [
    "## 1 Redes sociales\n",
    "\n",
    "Una **red** es una colección de objetos interconectados.\n",
    "\n",
    "Un **grafo** es una colección de objetos (vértices o nodos) unidos por enlaces (aristas o arcos), que permiten representar relaciones entre los elementos del conjunto.\n",
    "\n",
    "Una **relación** es una propiedad irreductible entre dos o más objetos. Los **atributos** hacen referencia a las características de los objetos en si mismos.\n",
    "\n",
    "Los **objetos** se denominan comúnmente como actores, individuos, nodos, o vértices; mientras que las **relaciones** entre ellos como enlaces, conexiones, aristas, o arcos.\n",
    "\n",
    "Algunos ejemplos:\n",
    "\n",
    "- Redes de información (e.g., *World Wide Web*).\n",
    "- Redes de transporte (e.g., red global de aerolineas).\n",
    "- Redes sociales *on-line* (e.g., *Facebook*).\n",
    "- Redes laborales (e.g., rede de colaboración).\n",
    "- Redes biológicas (e.g., red de proteinas).\n",
    "\n",
    "Las **interacciones** de las partes que constituyen un sistema conducen a **comportamientos colectivos** y **propiedades a nivel global**.\n",
    "\n",
    "![network](graph0.jpg)"
   ]
  },
  {
   "cell_type": "markdown",
   "id": "indian-pitch",
   "metadata": {},
   "source": [
    "## 2 Datos relacionales\n",
    "\n",
    "Los **datos relacionales** están constituidos por una colección de **objetos**, sus **atributos**, y un conjunto de **relaciones** observadas entre ellos.\n",
    "\n",
    "La presencia de **variables diádicas**, medidas sobre pares de individuos (díadas), es la característica distintiva de los datos relacionales.\n"
   ]
  },
  {
   "cell_type": "markdown",
   "id": "introductory-bulgaria",
   "metadata": {},
   "source": [
    "## 3 Objetivos\n",
    "\n",
    "Estudiar **teoría** y **metodología** para almacenar, gestionar, caracterizar, visualizar, y modelar datos relacionales.\n",
    "\n",
    "Usar **herramientas computacionales** para hacer análisis estadístico de datos relacionales.\n"
   ]
  },
  {
   "cell_type": "markdown",
   "id": "unnecessary-causing",
   "metadata": {},
   "source": [
    "## 4 Tipos de relaciones\n",
    "\n",
    "### 4.1 No dirigidas y dirigidas\n",
    "\n",
    "Una relación **no dirigida** (simétrica) tiene uno y solo un valor por díada. Por otro lado, una relación **dirigida** (asimétrica) tiene dos valores por díada, un valor que representa la perspectiva de cada miembro de la pareja. \n",
    "\n",
    "Se dice que una red es una **red no dirigida** si todas las relaciones en ella no están dirigidas, y se denomina **red dirigida** o **dígrafo** en caso contrario.\n",
    "\n",
    "Ejemplos de relaciones **no dirigidas**:\n",
    "\n",
    "- Amistades de una red social *on-line*.\n",
    "- Cantidad de tiempo que personas pasan juntas.\n",
    "\n",
    "<img src=\"undirected.jpeg\"  width=\"450\">\n",
    "\n",
    "Ejemplos de relaciones **dirigidas**:\n",
    "\n",
    "- Amistades auto-informadas.\n",
    "- Número de correos electrónicos enviados entre compañeros de trabajo.\n",
    "\n",
    "<img src=\"directed.jpeg\"  width=\"450\">\n",
    "\n",
    "### 4.2 Binarias y ponderadas\n",
    "\n",
    "Una relación **binaria** (dicotómica) únicamente asume dos valores, ausencia o presencia de la relación. Mientras que una relación **ponderada** (numérica) toma más de dos valores para caracterizar las relaciones entre las díadas.\n",
    "\n",
    "Ejemplos de relaciones **binarias**:\n",
    "\n",
    "- Presencia de un conflicto militar entre países.\n",
    "- Presencia de una alianza estratégica entre compañías. \n",
    "\n",
    "Ejemplos de relaciones **ponderadas**:\n",
    "\n",
    "- Número de veces que congresistas apoyan un proyecto de ley juntos.\n",
    "- Distancia geográfica entre ciudades.\n"
   ]
  },
  {
   "cell_type": "markdown",
   "id": "tropical-salvation",
   "metadata": {},
   "source": [
    "## 5 Fuentes de datos\n",
    "\n",
    "- https://sites.duke.edu/dnac/resources/datasets/\n",
    "- https://snap.stanford.edu/\n",
    "- https://github.com/awesomedata/awesome-public-datasets#socialnetworks\n",
    "- http://www-personal.umich.edu/~mejn/netdata/\n",
    "- https://linqs.soe.ucsc.edu/data\n",
    "- https://kateto.net/2016/05/network-datasets/"
   ]
  },
  {
   "cell_type": "markdown",
   "id": "substantial-angola",
   "metadata": {},
   "source": [
    "## 6 Otros tipos de redes\n",
    "\n",
    "### 6.1 Redes neuronales\n",
    "\n",
    "Una **red neuronal** es un **modelo computacional** con varias **capas de nodos** conectados, cuyo comportamiento está determinado por la forma en que se conectan los nodos así como por la ponderación de las conexiones. Usualmente se utilizan para tareas de identificación complejas, como el reconocimiento facial, la traducción de textos, y el reconocimiento de voz.\n",
    "\n",
    "<img src=\"neuronal_net.jpg\"  width=\"500\">\n",
    "\n",
    "Ver por ejemplo, Ghatak, A. (2019). *Deep learning with R*. Springer.\n",
    "\n",
    "**¿Pero qué \"es\" una Red neuronal?** (3Blue1Brown): https://www.youtube.com/watch?v=aircAruvnKk&t=21s&ab_channel=3Blue1Brown\n",
    "\n",
    "\n",
    "### 6.2 Redes Bayesianas\n",
    "            \n",
    "Las **redes Bayesianas** son una clase de **modelos gráficos** que permiten una representación de las **dependencias probabilísticas** entre un conjunto dado de variables aleatorias por medio de un *gráfico acíclico dirigido* (DAG), donde cada nodo corresponde a una variable aleatoria.\n",
    "\n",
    "<img src=\"bayesian_net.png\"  width=\"300\">\n",
    "\n",
    "Ver por ejemplo, Scutari, M., & Denis, J. B. (2021). *Bayesian networks: with examples in R*. CRC press.\n",
    "\n",
    "***Bayesian Networks*** (Bert Huang): https://www.youtube.com/watch?v=TuGDMj43ehw&ab_channel=BertHuang"
   ]
  },
  {
   "cell_type": "markdown",
   "id": "prostate-emission",
   "metadata": {},
   "source": [
    "## 7 Referencias\n",
    "\n",
    "<img src=\"KCbookcover1.jpg\"  width=\"350\">\n",
    "\n",
    "<img src=\"KCbookcover2.jpg\"  width=\"350\">\n",
    "\n",
    "<img src=\"Lukebookcover.jpg\"  width=\"350\">"
   ]
  }
 ],
 "metadata": {
  "kernelspec": {
   "display_name": "Python 3 (ipykernel)",
   "language": "python",
   "name": "python3"
  },
  "language_info": {
   "codemirror_mode": {
    "name": "ipython",
    "version": 3
   },
   "file_extension": ".py",
   "mimetype": "text/x-python",
   "name": "python",
   "nbconvert_exporter": "python",
   "pygments_lexer": "ipython3",
   "version": "3.9.7"
  }
 },
 "nbformat": 4,
 "nbformat_minor": 5
}
